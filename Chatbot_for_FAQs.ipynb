{
  "nbformat": 4,
  "nbformat_minor": 0,
  "metadata": {
    "colab": {
      "provenance": [],
      "gpuType": "T4"
    },
    "kernelspec": {
      "name": "python3",
      "display_name": "Python 3"
    },
    "language_info": {
      "name": "python"
    },
    "accelerator": "GPU",
    "widgets": {
      "application/vnd.jupyter.widget-state+json": {
        "776bc64cac834389af202cfd99e9e69c": {
          "model_module": "@jupyter-widgets/controls",
          "model_name": "VBoxModel",
          "model_module_version": "1.5.0",
          "state": {
            "_dom_classes": [],
            "_model_module": "@jupyter-widgets/controls",
            "_model_module_version": "1.5.0",
            "_model_name": "VBoxModel",
            "_view_count": null,
            "_view_module": "@jupyter-widgets/controls",
            "_view_module_version": "1.5.0",
            "_view_name": "VBoxView",
            "box_style": "",
            "children": [
              "IPY_MODEL_3b8d857752eb45c6999fc82f7adbf7e9",
              "IPY_MODEL_18ec71306da847ed83541aa5055dcc6f"
            ],
            "layout": "IPY_MODEL_89ce6baeb357401b977df9705dbd7d01"
          }
        },
        "3b8d857752eb45c6999fc82f7adbf7e9": {
          "model_module": "@jupyter-widgets/output",
          "model_name": "OutputModel",
          "model_module_version": "1.0.0",
          "state": {
            "_dom_classes": [],
            "_model_module": "@jupyter-widgets/output",
            "_model_module_version": "1.0.0",
            "_model_name": "OutputModel",
            "_view_count": null,
            "_view_module": "@jupyter-widgets/output",
            "_view_module_version": "1.0.0",
            "_view_name": "OutputView",
            "layout": "IPY_MODEL_73b319debadf4c19b0bfa89e9d22c9e4",
            "msg_id": "",
            "outputs": [
              {
                "output_type": "display_data",
                "data": {
                  "text/plain": "<IPython.core.display.HTML object>",
                  "text/html": "<h3 style=\"color: #1976d2;\">FAQ Chatbot</h3>"
                },
                "metadata": {}
              },
              {
                "output_type": "display_data",
                "data": {
                  "text/plain": "<IPython.core.display.HTML object>",
                  "text/html": "<p>Hello! I'm here to help answer your questions. Type your question below.</p>"
                },
                "metadata": {}
              }
            ]
          }
        },
        "18ec71306da847ed83541aa5055dcc6f": {
          "model_module": "@jupyter-widgets/controls",
          "model_name": "HBoxModel",
          "model_module_version": "1.5.0",
          "state": {
            "_dom_classes": [],
            "_model_module": "@jupyter-widgets/controls",
            "_model_module_version": "1.5.0",
            "_model_name": "HBoxModel",
            "_view_count": null,
            "_view_module": "@jupyter-widgets/controls",
            "_view_module_version": "1.5.0",
            "_view_name": "HBoxView",
            "box_style": "",
            "children": [
              "IPY_MODEL_d1c15d561b664eb3bfad08ffc3264da8",
              "IPY_MODEL_7a06576189e745d98c9832171d5c3d5e",
              "IPY_MODEL_51cbd08849d846b88d53b5745ce84588"
            ],
            "layout": "IPY_MODEL_b7d587363ab440bab1d32edc7ff135e2"
          }
        },
        "89ce6baeb357401b977df9705dbd7d01": {
          "model_module": "@jupyter-widgets/base",
          "model_name": "LayoutModel",
          "model_module_version": "1.2.0",
          "state": {
            "_model_module": "@jupyter-widgets/base",
            "_model_module_version": "1.2.0",
            "_model_name": "LayoutModel",
            "_view_count": null,
            "_view_module": "@jupyter-widgets/base",
            "_view_module_version": "1.2.0",
            "_view_name": "LayoutView",
            "align_content": null,
            "align_items": null,
            "align_self": null,
            "border": null,
            "bottom": null,
            "display": null,
            "flex": null,
            "flex_flow": null,
            "grid_area": null,
            "grid_auto_columns": null,
            "grid_auto_flow": null,
            "grid_auto_rows": null,
            "grid_column": null,
            "grid_gap": null,
            "grid_row": null,
            "grid_template_areas": null,
            "grid_template_columns": null,
            "grid_template_rows": null,
            "height": null,
            "justify_content": null,
            "justify_items": null,
            "left": null,
            "margin": null,
            "max_height": null,
            "max_width": null,
            "min_height": null,
            "min_width": null,
            "object_fit": null,
            "object_position": null,
            "order": null,
            "overflow": null,
            "overflow_x": null,
            "overflow_y": null,
            "padding": null,
            "right": null,
            "top": null,
            "visibility": null,
            "width": null
          }
        },
        "d1c15d561b664eb3bfad08ffc3264da8": {
          "model_module": "@jupyter-widgets/controls",
          "model_name": "TextModel",
          "model_module_version": "1.5.0",
          "state": {
            "_dom_classes": [],
            "_model_module": "@jupyter-widgets/controls",
            "_model_module_version": "1.5.0",
            "_model_name": "TextModel",
            "_view_count": null,
            "_view_module": "@jupyter-widgets/controls",
            "_view_module_version": "1.5.0",
            "_view_name": "TextView",
            "continuous_update": true,
            "description": "You:",
            "description_tooltip": null,
            "disabled": false,
            "layout": "IPY_MODEL_67149aa803124720aab5aa9526eb2d0c",
            "placeholder": "Type your question here...",
            "style": "IPY_MODEL_41b98528705d4f039952221875df448c",
            "value": ""
          }
        },
        "7a06576189e745d98c9832171d5c3d5e": {
          "model_module": "@jupyter-widgets/controls",
          "model_name": "ButtonModel",
          "model_module_version": "1.5.0",
          "state": {
            "_dom_classes": [],
            "_model_module": "@jupyter-widgets/controls",
            "_model_module_version": "1.5.0",
            "_model_name": "ButtonModel",
            "_view_count": null,
            "_view_module": "@jupyter-widgets/controls",
            "_view_module_version": "1.5.0",
            "_view_name": "ButtonView",
            "button_style": "primary",
            "description": "Send",
            "disabled": false,
            "icon": "",
            "layout": "IPY_MODEL_acad9397d3f34ac3b817e8460ff13700",
            "style": "IPY_MODEL_ae1cd4917e894e59815c62d8a92e6ffd",
            "tooltip": ""
          }
        },
        "51cbd08849d846b88d53b5745ce84588": {
          "model_module": "@jupyter-widgets/controls",
          "model_name": "ButtonModel",
          "model_module_version": "1.5.0",
          "state": {
            "_dom_classes": [],
            "_model_module": "@jupyter-widgets/controls",
            "_model_module_version": "1.5.0",
            "_model_name": "ButtonModel",
            "_view_count": null,
            "_view_module": "@jupyter-widgets/controls",
            "_view_module_version": "1.5.0",
            "_view_name": "ButtonView",
            "button_style": "warning",
            "description": "Clear Chat",
            "disabled": false,
            "icon": "",
            "layout": "IPY_MODEL_f0b5184e641d466f94e762706713e10c",
            "style": "IPY_MODEL_e8092333f1e94213afe21e1bfa2c72f9",
            "tooltip": ""
          }
        },
        "b7d587363ab440bab1d32edc7ff135e2": {
          "model_module": "@jupyter-widgets/base",
          "model_name": "LayoutModel",
          "model_module_version": "1.2.0",
          "state": {
            "_model_module": "@jupyter-widgets/base",
            "_model_module_version": "1.2.0",
            "_model_name": "LayoutModel",
            "_view_count": null,
            "_view_module": "@jupyter-widgets/base",
            "_view_module_version": "1.2.0",
            "_view_name": "LayoutView",
            "align_content": null,
            "align_items": null,
            "align_self": null,
            "border": null,
            "bottom": null,
            "display": null,
            "flex": null,
            "flex_flow": null,
            "grid_area": null,
            "grid_auto_columns": null,
            "grid_auto_flow": null,
            "grid_auto_rows": null,
            "grid_column": null,
            "grid_gap": null,
            "grid_row": null,
            "grid_template_areas": null,
            "grid_template_columns": null,
            "grid_template_rows": null,
            "height": null,
            "justify_content": null,
            "justify_items": null,
            "left": null,
            "margin": null,
            "max_height": null,
            "max_width": null,
            "min_height": null,
            "min_width": null,
            "object_fit": null,
            "object_position": null,
            "order": null,
            "overflow": null,
            "overflow_x": null,
            "overflow_y": null,
            "padding": null,
            "right": null,
            "top": null,
            "visibility": null,
            "width": null
          }
        },
        "67149aa803124720aab5aa9526eb2d0c": {
          "model_module": "@jupyter-widgets/base",
          "model_name": "LayoutModel",
          "model_module_version": "1.2.0",
          "state": {
            "_model_module": "@jupyter-widgets/base",
            "_model_module_version": "1.2.0",
            "_model_name": "LayoutModel",
            "_view_count": null,
            "_view_module": "@jupyter-widgets/base",
            "_view_module_version": "1.2.0",
            "_view_name": "LayoutView",
            "align_content": null,
            "align_items": null,
            "align_self": null,
            "border": null,
            "bottom": null,
            "display": null,
            "flex": null,
            "flex_flow": null,
            "grid_area": null,
            "grid_auto_columns": null,
            "grid_auto_flow": null,
            "grid_auto_rows": null,
            "grid_column": null,
            "grid_gap": null,
            "grid_row": null,
            "grid_template_areas": null,
            "grid_template_columns": null,
            "grid_template_rows": null,
            "height": null,
            "justify_content": null,
            "justify_items": null,
            "left": null,
            "margin": null,
            "max_height": null,
            "max_width": null,
            "min_height": null,
            "min_width": null,
            "object_fit": null,
            "object_position": null,
            "order": null,
            "overflow": null,
            "overflow_x": null,
            "overflow_y": null,
            "padding": null,
            "right": null,
            "top": null,
            "visibility": null,
            "width": "70%"
          }
        },
        "41b98528705d4f039952221875df448c": {
          "model_module": "@jupyter-widgets/controls",
          "model_name": "DescriptionStyleModel",
          "model_module_version": "1.5.0",
          "state": {
            "_model_module": "@jupyter-widgets/controls",
            "_model_module_version": "1.5.0",
            "_model_name": "DescriptionStyleModel",
            "_view_count": null,
            "_view_module": "@jupyter-widgets/base",
            "_view_module_version": "1.2.0",
            "_view_name": "StyleView",
            "description_width": ""
          }
        },
        "acad9397d3f34ac3b817e8460ff13700": {
          "model_module": "@jupyter-widgets/base",
          "model_name": "LayoutModel",
          "model_module_version": "1.2.0",
          "state": {
            "_model_module": "@jupyter-widgets/base",
            "_model_module_version": "1.2.0",
            "_model_name": "LayoutModel",
            "_view_count": null,
            "_view_module": "@jupyter-widgets/base",
            "_view_module_version": "1.2.0",
            "_view_name": "LayoutView",
            "align_content": null,
            "align_items": null,
            "align_self": null,
            "border": null,
            "bottom": null,
            "display": null,
            "flex": null,
            "flex_flow": null,
            "grid_area": null,
            "grid_auto_columns": null,
            "grid_auto_flow": null,
            "grid_auto_rows": null,
            "grid_column": null,
            "grid_gap": null,
            "grid_row": null,
            "grid_template_areas": null,
            "grid_template_columns": null,
            "grid_template_rows": null,
            "height": null,
            "justify_content": null,
            "justify_items": null,
            "left": null,
            "margin": null,
            "max_height": null,
            "max_width": null,
            "min_height": null,
            "min_width": null,
            "object_fit": null,
            "object_position": null,
            "order": null,
            "overflow": null,
            "overflow_x": null,
            "overflow_y": null,
            "padding": null,
            "right": null,
            "top": null,
            "visibility": null,
            "width": "15%"
          }
        },
        "ae1cd4917e894e59815c62d8a92e6ffd": {
          "model_module": "@jupyter-widgets/controls",
          "model_name": "ButtonStyleModel",
          "model_module_version": "1.5.0",
          "state": {
            "_model_module": "@jupyter-widgets/controls",
            "_model_module_version": "1.5.0",
            "_model_name": "ButtonStyleModel",
            "_view_count": null,
            "_view_module": "@jupyter-widgets/base",
            "_view_module_version": "1.2.0",
            "_view_name": "StyleView",
            "button_color": null,
            "font_weight": ""
          }
        },
        "f0b5184e641d466f94e762706713e10c": {
          "model_module": "@jupyter-widgets/base",
          "model_name": "LayoutModel",
          "model_module_version": "1.2.0",
          "state": {
            "_model_module": "@jupyter-widgets/base",
            "_model_module_version": "1.2.0",
            "_model_name": "LayoutModel",
            "_view_count": null,
            "_view_module": "@jupyter-widgets/base",
            "_view_module_version": "1.2.0",
            "_view_name": "LayoutView",
            "align_content": null,
            "align_items": null,
            "align_self": null,
            "border": null,
            "bottom": null,
            "display": null,
            "flex": null,
            "flex_flow": null,
            "grid_area": null,
            "grid_auto_columns": null,
            "grid_auto_flow": null,
            "grid_auto_rows": null,
            "grid_column": null,
            "grid_gap": null,
            "grid_row": null,
            "grid_template_areas": null,
            "grid_template_columns": null,
            "grid_template_rows": null,
            "height": null,
            "justify_content": null,
            "justify_items": null,
            "left": null,
            "margin": null,
            "max_height": null,
            "max_width": null,
            "min_height": null,
            "min_width": null,
            "object_fit": null,
            "object_position": null,
            "order": null,
            "overflow": null,
            "overflow_x": null,
            "overflow_y": null,
            "padding": null,
            "right": null,
            "top": null,
            "visibility": null,
            "width": "15%"
          }
        },
        "e8092333f1e94213afe21e1bfa2c72f9": {
          "model_module": "@jupyter-widgets/controls",
          "model_name": "ButtonStyleModel",
          "model_module_version": "1.5.0",
          "state": {
            "_model_module": "@jupyter-widgets/controls",
            "_model_module_version": "1.5.0",
            "_model_name": "ButtonStyleModel",
            "_view_count": null,
            "_view_module": "@jupyter-widgets/base",
            "_view_module_version": "1.2.0",
            "_view_name": "StyleView",
            "button_color": null,
            "font_weight": ""
          }
        },
        "73b319debadf4c19b0bfa89e9d22c9e4": {
          "model_module": "@jupyter-widgets/base",
          "model_name": "LayoutModel",
          "model_module_version": "1.2.0",
          "state": {
            "_model_module": "@jupyter-widgets/base",
            "_model_module_version": "1.2.0",
            "_model_name": "LayoutModel",
            "_view_count": null,
            "_view_module": "@jupyter-widgets/base",
            "_view_module_version": "1.2.0",
            "_view_name": "LayoutView",
            "align_content": null,
            "align_items": null,
            "align_self": null,
            "border": null,
            "bottom": null,
            "display": null,
            "flex": null,
            "flex_flow": null,
            "grid_area": null,
            "grid_auto_columns": null,
            "grid_auto_flow": null,
            "grid_auto_rows": null,
            "grid_column": null,
            "grid_gap": null,
            "grid_row": null,
            "grid_template_areas": null,
            "grid_template_columns": null,
            "grid_template_rows": null,
            "height": null,
            "justify_content": null,
            "justify_items": null,
            "left": null,
            "margin": null,
            "max_height": null,
            "max_width": null,
            "min_height": null,
            "min_width": null,
            "object_fit": null,
            "object_position": null,
            "order": null,
            "overflow": null,
            "overflow_x": null,
            "overflow_y": null,
            "padding": null,
            "right": null,
            "top": null,
            "visibility": null,
            "width": null
          }
        }
      }
    }
  },
  "cells": [
    {
      "cell_type": "code",
      "source": [
        "# FAQ Chatbot using NLP and Cosine Similarity\n",
        "\n",
        "# Install required libraries\n",
        "!pip install nltk scikit-learn ipywidgets -q\n",
        "\n",
        "print(\"Packages installed successfully!\")"
      ],
      "metadata": {
        "colab": {
          "base_uri": "https://localhost:8080/"
        },
        "id": "JOQbQOdRQVxa",
        "outputId": "c52d58f5-ca6f-4752-9130-6f30f2642993"
      },
      "execution_count": null,
      "outputs": [
        {
          "output_type": "stream",
          "name": "stdout",
          "text": [
            "\u001b[?25l   \u001b[90m━━━━━━━━━━━━━━━━━━━━━━━━━━━━━━━━━━━━━━━━\u001b[0m \u001b[32m0.0/1.6 MB\u001b[0m \u001b[31m?\u001b[0m eta \u001b[36m-:--:--\u001b[0m\r\u001b[2K   \u001b[91m━━━━━━━━━━━━━━━━━━━━━━━━━━━━━━━━━━━━━━━\u001b[0m\u001b[91m╸\u001b[0m \u001b[32m1.6/1.6 MB\u001b[0m \u001b[31m56.0 MB/s\u001b[0m eta \u001b[36m0:00:01\u001b[0m\r\u001b[2K   \u001b[90m━━━━━━━━━━━━━━━━━━━━━━━━━━━━━━━━━━━━━━━━\u001b[0m \u001b[32m1.6/1.6 MB\u001b[0m \u001b[31m36.4 MB/s\u001b[0m eta \u001b[36m0:00:00\u001b[0m\n",
            "\u001b[?25hPackages installed successfully!\n"
          ]
        }
      ]
    },
    {
      "cell_type": "code",
      "source": [
        "# Import all necessary libraries\n",
        "\n",
        "import nltk\n",
        "import numpy as np\n",
        "import re\n",
        "from sklearn.feature_extraction.text import TfidfVectorizer\n",
        "from sklearn.metrics.pairwise import cosine_similarity\n",
        "import ipywidgets as widgets\n",
        "from IPython.display import display, clear_output, HTML\n",
        "\n",
        "print(\"Libraries imported successfully!\")"
      ],
      "metadata": {
        "colab": {
          "base_uri": "https://localhost:8080/"
        },
        "id": "mhue4fZkQVtj",
        "outputId": "b5ed3622-c393-473f-89e7-7945674a9e42"
      },
      "execution_count": null,
      "outputs": [
        {
          "output_type": "stream",
          "name": "stdout",
          "text": [
            "Libraries imported successfully!\n"
          ]
        }
      ]
    },
    {
      "cell_type": "code",
      "source": [
        "# Download required NLTK datasets for text processing\n",
        "\n",
        "print(\"Downloading NLTK data...\")\n",
        "\n",
        "nltk.download('punkt')\n",
        "nltk.download('stopwords')\n",
        "nltk.download('wordnet')\n",
        "nltk.download('omw-1.4')\n",
        "nltk.download('punkt_tab')\n",
        "\n",
        "from nltk.corpus import stopwords\n",
        "from nltk.tokenize import word_tokenize\n",
        "from nltk.stem import WordNetLemmatizer\n",
        "\n",
        "print(\"\\n NLTK data downloaded successfully!\")"
      ],
      "metadata": {
        "colab": {
          "base_uri": "https://localhost:8080/"
        },
        "id": "H014UoTPQVrT",
        "outputId": "af52e114-0d3a-4d92-c4de-d039216ad50b"
      },
      "execution_count": null,
      "outputs": [
        {
          "output_type": "stream",
          "name": "stdout",
          "text": [
            "Downloading NLTK data...\n"
          ]
        },
        {
          "output_type": "stream",
          "name": "stderr",
          "text": [
            "[nltk_data] Downloading package punkt to /root/nltk_data...\n",
            "[nltk_data]   Unzipping tokenizers/punkt.zip.\n",
            "[nltk_data] Downloading package stopwords to /root/nltk_data...\n",
            "[nltk_data]   Unzipping corpora/stopwords.zip.\n",
            "[nltk_data] Downloading package wordnet to /root/nltk_data...\n",
            "[nltk_data] Downloading package omw-1.4 to /root/nltk_data...\n"
          ]
        },
        {
          "output_type": "stream",
          "name": "stdout",
          "text": [
            "\n",
            " NLTK data downloaded successfully!\n"
          ]
        },
        {
          "output_type": "stream",
          "name": "stderr",
          "text": [
            "[nltk_data] Downloading package punkt_tab to /root/nltk_data...\n",
            "[nltk_data]   Unzipping tokenizers/punkt_tab.zip.\n"
          ]
        }
      ]
    },
    {
      "cell_type": "code",
      "source": [
        "# Add your FAQs here - You can modify this list with your own questions and answers\n",
        "\n",
        "faqs = [\n",
        "    {\n",
        "        \"question\": \"What are your business hours?\",\n",
        "        \"answer\": \"We are open Monday through Friday from 9 AM to 6 PM, and Saturday from 10 AM to 4 PM. We are closed on Sundays.\"\n",
        "    },\n",
        "    {\n",
        "        \"question\": \"How can I track my order?\",\n",
        "        \"answer\": \"You can track your order by logging into your account and visiting the 'My Orders' section. You'll receive a tracking number via email once your order ships.\"\n",
        "    },\n",
        "    {\n",
        "        \"question\": \"What is your return policy?\",\n",
        "        \"answer\": \"We accept returns within 30 days of purchase. Items must be unused and in original packaging. Refunds are processed within 5-7 business days.\"\n",
        "    },\n",
        "    {\n",
        "        \"question\": \"Do you offer international shipping?\",\n",
        "        \"answer\": \"Yes, we ship to over 50 countries worldwide. Shipping costs and delivery times vary by location. International orders typically arrive within 7-14 business days.\"\n",
        "    },\n",
        "    {\n",
        "        \"question\": \"How do I reset my password?\",\n",
        "        \"answer\": \"Click on 'Forgot Password' on the login page. Enter your email address, and we'll send you a link to reset your password.\"\n",
        "    },\n",
        "    {\n",
        "        \"question\": \"What payment methods do you accept?\",\n",
        "        \"answer\": \"We accept all major credit cards (Visa, MasterCard, American Express), PayPal, and Apple Pay.\"\n",
        "    },\n",
        "    {\n",
        "        \"question\": \"Can I cancel my order?\",\n",
        "        \"answer\": \"You can cancel your order within 24 hours of placing it. After that, the order may have already been processed for shipping. Contact customer support for assistance.\"\n",
        "    },\n",
        "    {\n",
        "        \"question\": \"Do you have a mobile app?\",\n",
        "        \"answer\": \"Yes! Our mobile app is available for both iOS and Android. You can download it from the App Store or Google Play Store.\"\n",
        "    },\n",
        "    {\n",
        "        \"question\": \"How do I contact customer support?\",\n",
        "        \"answer\": \"You can reach our customer support team via email at support@example.com or call us at 1-800-123-4567 during business hours.\"\n",
        "    },\n",
        "    {\n",
        "        \"question\": \"Are there any discounts for bulk orders?\",\n",
        "        \"answer\": \"Yes, we offer discounts for bulk orders. Please contact our sales team at sales@example.com for a custom quote.\"\n",
        "    }\n",
        "]\n",
        "\n",
        "print(f\" Loaded {len(faqs)} FAQs\")"
      ],
      "metadata": {
        "colab": {
          "base_uri": "https://localhost:8080/"
        },
        "id": "Si4x3Yp7QVpH",
        "outputId": "9d28b0b1-6b1b-461f-e8d8-533aa4a9f634"
      },
      "execution_count": null,
      "outputs": [
        {
          "output_type": "stream",
          "name": "stdout",
          "text": [
            " Loaded 10 FAQs\n"
          ]
        }
      ]
    },
    {
      "cell_type": "code",
      "source": [
        "# This class handles text cleaning and preprocessing\n",
        "\n",
        "class TextPreprocessor:\n",
        "    \"\"\"\n",
        "    Preprocesses text for better matching:\n",
        "    - Converts to lowercase\n",
        "    - Removes special characters\n",
        "    - Tokenizes text\n",
        "    - Removes stop words (common words like 'the', 'is', etc.)\n",
        "    - Lemmatizes words (converts to base form)\n",
        "    \"\"\"\n",
        "\n",
        "    def __init__(self):\n",
        "        self.lemmatizer = WordNetLemmatizer()\n",
        "        self.stop_words = set(stopwords.words('english'))\n",
        "\n",
        "    def preprocess(self, text):\n",
        "        \"\"\"Clean and preprocess text\"\"\"\n",
        "        # Convert to lowercase\n",
        "        text = text.lower()\n",
        "\n",
        "        # Remove special characters and digits\n",
        "        text = re.sub(r'[^a-zA-Z\\s]', '', text)\n",
        "\n",
        "        # Tokenize (split into words)\n",
        "        tokens = word_tokenize(text)\n",
        "\n",
        "        # Remove stopwords and lemmatize\n",
        "        tokens = [\n",
        "            self.lemmatizer.lemmatize(word)\n",
        "            for word in tokens\n",
        "            if word not in self.stop_words and len(word) > 2\n",
        "        ]\n",
        "\n",
        "        return ' '.join(tokens)\n",
        "\n",
        "# Test the preprocessor\n",
        "preprocessor = TextPreprocessor()\n",
        "sample_text = \"How can I track my order? What's the status?\"\n",
        "processed = preprocessor.preprocess(sample_text)\n",
        "\n",
        "print(\" TextPreprocessor class created\")\n",
        "print(f\"\\nExample:\")\n",
        "print(f\"Original: {sample_text}\")\n",
        "print(f\"Processed: {processed}\")"
      ],
      "metadata": {
        "colab": {
          "base_uri": "https://localhost:8080/"
        },
        "id": "cAXB0sIAQVnK",
        "outputId": "9c2806ce-0013-4ee2-dafc-5a290f10633e"
      },
      "execution_count": null,
      "outputs": [
        {
          "output_type": "stream",
          "name": "stdout",
          "text": [
            " TextPreprocessor class created\n",
            "\n",
            "Example:\n",
            "Original: How can I track my order? What's the status?\n",
            "Processed: track order whats status\n"
          ]
        }
      ]
    },
    {
      "cell_type": "code",
      "source": [
        "# This class finds the best matching FAQ for a user's question\n",
        "\n",
        "class FAQMatcher:\n",
        "    \"\"\"\n",
        "    Matches user questions to FAQs using:\n",
        "    - TF-IDF Vectorization (converts text to numerical vectors)\n",
        "    - Cosine Similarity (measures similarity between vectors)\n",
        "    \"\"\"\n",
        "\n",
        "    def __init__(self, faqs):\n",
        "        self.faqs = faqs\n",
        "        self.preprocessor = TextPreprocessor()\n",
        "        self.vectorizer = TfidfVectorizer()\n",
        "\n",
        "        # Preprocess all FAQ questions\n",
        "        self.faq_questions = [faq['question'] for faq in faqs]\n",
        "        self.preprocessed_questions = [\n",
        "            self.preprocessor.preprocess(q) for q in self.faq_questions\n",
        "        ]\n",
        "\n",
        "        # Create TF-IDF vectors for FAQ questions\n",
        "        self.faq_vectors = self.vectorizer.fit_transform(self.preprocessed_questions)\n",
        "\n",
        "    def find_best_match(self, user_question, threshold=0.3):\n",
        "        \"\"\"\n",
        "        Find the best matching FAQ for user question\n",
        "\n",
        "        Args:\n",
        "            user_question: The question asked by user\n",
        "            threshold: Minimum similarity score (0-1) to consider a match\n",
        "\n",
        "        Returns:\n",
        "            Dictionary with matched question, answer, and confidence score\n",
        "            or None if no good match found\n",
        "        \"\"\"\n",
        "        # Preprocess user question\n",
        "        processed_question = self.preprocessor.preprocess(user_question)\n",
        "\n",
        "        # Convert to TF-IDF vector\n",
        "        user_vector = self.vectorizer.transform([processed_question])\n",
        "\n",
        "        # Calculate cosine similarity with all FAQ questions\n",
        "        similarities = cosine_similarity(user_vector, self.faq_vectors)[0]\n",
        "\n",
        "        # Find best match\n",
        "        best_match_idx = np.argmax(similarities)\n",
        "        best_similarity = similarities[best_match_idx]\n",
        "\n",
        "        # Return result if above threshold\n",
        "        if best_similarity >= threshold:\n",
        "            return {\n",
        "                'question': self.faq_questions[best_match_idx],\n",
        "                'answer': self.faqs[best_match_idx]['answer'],\n",
        "                'confidence': round(best_similarity * 100, 2)\n",
        "            }\n",
        "        else:\n",
        "            return None\n",
        "\n",
        "# Test the matcher\n",
        "matcher = FAQMatcher(faqs)\n",
        "test_question = \"Where can I find my order status?\"\n",
        "result = matcher.find_best_match(test_question)\n",
        "\n",
        "print(\" FAQMatcher class created\")\n",
        "print(f\"\\nExample:\")\n",
        "print(f\"User Question: {test_question}\")\n",
        "if result:\n",
        "    print(f\"Matched FAQ: {result['question']}\")\n",
        "    print(f\"Confidence: {result['confidence']}%\")"
      ],
      "metadata": {
        "colab": {
          "base_uri": "https://localhost:8080/"
        },
        "id": "GquiT5ruQVkQ",
        "outputId": "93fdbc6b-2cf3-406e-810b-63c38492197a"
      },
      "execution_count": null,
      "outputs": [
        {
          "output_type": "stream",
          "name": "stdout",
          "text": [
            " FAQMatcher class created\n",
            "\n",
            "Example:\n",
            "User Question: Where can I find my order status?\n",
            "Matched FAQ: How can I track my order?\n",
            "Confidence: 59.68%\n"
          ]
        }
      ]
    },
    {
      "cell_type": "code",
      "source": [
        "# This class creates the interactive chat interface\n",
        "\n",
        "class FAQChatbot:\n",
        "    \"\"\"\n",
        "    Creates an interactive chatbot UI with:\n",
        "    - Text input field\n",
        "    - Send button\n",
        "    - Clear chat button\n",
        "    - Chat history display\n",
        "    \"\"\"\n",
        "\n",
        "    def __init__(self, faqs):\n",
        "        self.matcher = FAQMatcher(faqs)\n",
        "        self.chat_history = []\n",
        "\n",
        "        # Create UI widgets\n",
        "        self.output = widgets.Output()\n",
        "        self.user_input = widgets.Text(\n",
        "            placeholder='Type your question here...',\n",
        "            description='You:',\n",
        "            layout=widgets.Layout(width='70%')\n",
        "        )\n",
        "        self.send_button = widgets.Button(\n",
        "            description='Send',\n",
        "            button_style='primary',\n",
        "            layout=widgets.Layout(width='15%')\n",
        "        )\n",
        "        self.clear_button = widgets.Button(\n",
        "            description='Clear Chat',\n",
        "            button_style='warning',\n",
        "            layout=widgets.Layout(width='15%')\n",
        "        )\n",
        "\n",
        "        # Event handlers\n",
        "        self.send_button.on_click(self.on_send_click)\n",
        "        self.clear_button.on_click(self.on_clear_click)\n",
        "        self.user_input.on_submit(self.on_send_click)\n",
        "\n",
        "    def display_message(self, sender, message, confidence=None):\n",
        "        \"\"\"Display a message in the chat with styling\"\"\"\n",
        "        with self.output:\n",
        "            if sender == \"You\":\n",
        "                style = \"background-color: #e3f2fd; padding: 10px; margin: 5px; border-radius: 10px;\"\n",
        "                display(HTML(f'<div style=\"{style}\"><strong>{sender}:</strong> {message}</div>'))\n",
        "            else:\n",
        "                style = \"background-color: #f1f8e9; padding: 10px; margin: 5px; border-radius: 10px;\"\n",
        "                conf_text = f\" <em>(Confidence: {confidence}%)</em>\" if confidence else \"\"\n",
        "                display(HTML(f'<div style=\"{style}\"><strong>{sender}:</strong> {message}{conf_text}</div>'))\n",
        "\n",
        "    def on_send_click(self, b):\n",
        "        \"\"\"Handle send button click or Enter key press\"\"\"\n",
        "        user_question = self.user_input.value.strip()\n",
        "\n",
        "        if not user_question:\n",
        "            return\n",
        "\n",
        "        # Display user message\n",
        "        self.display_message(\"You\", user_question)\n",
        "        self.chat_history.append((\"user\", user_question))\n",
        "\n",
        "        # Find matching FAQ\n",
        "        match = self.matcher.find_best_match(user_question)\n",
        "\n",
        "        if match:\n",
        "            response = f\"<strong>Q:</strong> {match['question']}<br><br><strong>A:</strong> {match['answer']}\"\n",
        "            self.display_message(\"Bot\", response, match['confidence'])\n",
        "            self.chat_history.append((\"bot\", match['answer']))\n",
        "        else:\n",
        "            response = \"I'm sorry, I couldn't find a relevant answer to your question. Please try rephrasing or contact our support team for assistance.\"\n",
        "            self.display_message(\"Bot\", response)\n",
        "            self.chat_history.append((\"bot\", response))\n",
        "\n",
        "        # Clear input field\n",
        "        self.user_input.value = ''\n",
        "\n",
        "    def on_clear_click(self, b):\n",
        "        \"\"\"Clear chat history\"\"\"\n",
        "        self.chat_history = []\n",
        "        with self.output:\n",
        "            clear_output()\n",
        "            display(HTML('<h3 style=\"color: #1976d2;\">FAQ Chatbot</h3>'))\n",
        "            display(HTML('<p>Hello! I\\'m here to help answer your questions. Type your question below.</p>'))\n",
        "\n",
        "    def run(self):\n",
        "        \"\"\"Display the chatbot UI\"\"\"\n",
        "        # Display header\n",
        "        with self.output:\n",
        "            display(HTML('<h3 style=\"color: #1976d2;\">FAQ Chatbot</h3>'))\n",
        "            display(HTML('<p>Hello! I\\'m here to help answer your questions. Type your question below.</p>'))\n",
        "\n",
        "        # Create layout\n",
        "        input_box = widgets.HBox([self.user_input, self.send_button, self.clear_button])\n",
        "        ui = widgets.VBox([self.output, input_box])\n",
        "\n",
        "        display(ui)\n",
        "\n",
        "print(\"FAQChatbot class created\")\n"
      ],
      "metadata": {
        "colab": {
          "base_uri": "https://localhost:8080/"
        },
        "id": "T7bpULGBQVhz",
        "outputId": "8d1c7933-a572-40f4-dde5-9e7cc46ea5b2"
      },
      "execution_count": null,
      "outputs": [
        {
          "output_type": "stream",
          "name": "stdout",
          "text": [
            "FAQChatbot class created\n"
          ]
        }
      ]
    },
    {
      "cell_type": "code",
      "source": [
        "# Execute this cell to start the chatbot\n",
        "\n",
        "print(\"🤖 Initializing FAQ Chatbot...\")\n",
        "\n",
        "\n",
        "# Create and run chatbot\n",
        "chatbot = FAQChatbot(faqs)\n",
        "chatbot.run()\n",
        "\n",
        "\n",
        "print(\" Chatbot is ready! Start asking questions above.\")\n",
        "\n",
        "print(\"\\nTips:\")\n",
        "print(\"- Type your question and press Enter or click Send\")\n",
        "print(\"- The bot will find the most similar FAQ\")\n",
        "print(\"- Confidence score shows how good the match is\")\n",
        "print(\"- Click 'Clear Chat' to reset the conversation\")"
      ],
      "metadata": {
        "colab": {
          "base_uri": "https://localhost:8080/",
          "height": 254,
          "referenced_widgets": [
            "776bc64cac834389af202cfd99e9e69c",
            "3b8d857752eb45c6999fc82f7adbf7e9",
            "18ec71306da847ed83541aa5055dcc6f",
            "89ce6baeb357401b977df9705dbd7d01",
            "d1c15d561b664eb3bfad08ffc3264da8",
            "7a06576189e745d98c9832171d5c3d5e",
            "51cbd08849d846b88d53b5745ce84588",
            "b7d587363ab440bab1d32edc7ff135e2",
            "67149aa803124720aab5aa9526eb2d0c",
            "41b98528705d4f039952221875df448c",
            "acad9397d3f34ac3b817e8460ff13700",
            "ae1cd4917e894e59815c62d8a92e6ffd",
            "f0b5184e641d466f94e762706713e10c",
            "e8092333f1e94213afe21e1bfa2c72f9",
            "73b319debadf4c19b0bfa89e9d22c9e4"
          ]
        },
        "id": "A4kowKYATMWu",
        "outputId": "2ddba682-37bc-461f-8888-60e0a86706db"
      },
      "execution_count": null,
      "outputs": [
        {
          "output_type": "stream",
          "name": "stdout",
          "text": [
            "🤖 Initializing FAQ Chatbot...\n"
          ]
        },
        {
          "output_type": "display_data",
          "data": {
            "text/plain": [
              "VBox(children=(Output(), HBox(children=(Text(value='', description='You:', layout=Layout(width='70%'), placeho…"
            ],
            "application/vnd.jupyter.widget-view+json": {
              "version_major": 2,
              "version_minor": 0,
              "model_id": "776bc64cac834389af202cfd99e9e69c"
            }
          },
          "metadata": {}
        },
        {
          "output_type": "stream",
          "name": "stdout",
          "text": [
            " Chatbot is ready! Start asking questions above.\n",
            "\n",
            "Tips:\n",
            "- Type your question and press Enter or click Send\n",
            "- The bot will find the most similar FAQ\n",
            "- Confidence score shows how good the match is\n",
            "- Click 'Clear Chat' to reset the conversation\n"
          ]
        }
      ]
    },
    {
      "cell_type": "code",
      "source": [],
      "metadata": {
        "id": "_IzbZH5RTMUk"
      },
      "execution_count": null,
      "outputs": []
    },
    {
      "cell_type": "code",
      "source": [],
      "metadata": {
        "id": "kL0v9f3dTMS3"
      },
      "execution_count": null,
      "outputs": []
    },
    {
      "cell_type": "code",
      "source": [],
      "metadata": {
        "id": "3DcsIiSzTMOi"
      },
      "execution_count": null,
      "outputs": []
    },
    {
      "cell_type": "code",
      "source": [],
      "metadata": {
        "id": "GTWya5EbQVfR"
      },
      "execution_count": null,
      "outputs": []
    },
    {
      "cell_type": "code",
      "execution_count": null,
      "metadata": {
        "id": "4WavXO6yduUG"
      },
      "outputs": [],
      "source": [
        "faqs = {\n",
        "    \"What is the admission deadline?\": \"The admission deadline is 30th September 2025.\",\n",
        "    \"How can I apply for admission?\": \"You can apply through our online admission portal.\",\n",
        "    \"What documents are required for admission?\": \"You need your transcript, CNIC, and passport-sized photos.\",\n",
        "    \"Is there any scholarship available?\": \"Yes, we offer merit-based scholarships.\",\n",
        "    \"How can I contact the admission office?\": \"You can email us at admission@university.edu.\"\n",
        "}\n"
      ]
    },
    {
      "cell_type": "code",
      "source": [
        "import spacy\n",
        "from sklearn.feature_extraction.text import TfidfVectorizer\n",
        "from sklearn.metrics.pairwise import cosine_similarity\n",
        "\n",
        "# Load SpaCy English model\n",
        "nlp = spacy.load(\"en_core_web_sm\")\n",
        "\n",
        "# Extract questions\n",
        "questions = list(faqs.keys())\n",
        "\n",
        "# Vectorize questions using TF-IDF\n",
        "vectorizer = TfidfVectorizer()\n",
        "X = vectorizer.fit_transform(questions)\n"
      ],
      "metadata": {
        "id": "nOH99k3RenNA"
      },
      "execution_count": null,
      "outputs": []
    },
    {
      "cell_type": "code",
      "source": [
        "def chatbot_response(user_query):\n",
        "    # Transform query\n",
        "    user_vec = vectorizer.transform([user_query])\n",
        "\n",
        "    # Compute cosine similarity\n",
        "    similarity = cosine_similarity(user_vec, X).flatten()\n",
        "\n",
        "    # Find best match\n",
        "    idx = similarity.argmax()\n",
        "    best_match_score = similarity[idx]\n",
        "\n",
        "    # Confidence threshold (to avoid wrong matches)\n",
        "    if best_match_score > 0.3:\n",
        "        return faqs[questions[idx]]\n",
        "    else:\n",
        "        return \"Sorry, I don’t have an answer for that. Please contact support.\"\n"
      ],
      "metadata": {
        "id": "vnUnlZiOeplX"
      },
      "execution_count": null,
      "outputs": []
    },
    {
      "cell_type": "code",
      "source": [
        "print(\"Chatbot ready! Type 'exit' to quit.\\n\")\n",
        "while True:\n",
        "    user_input = input(\"You: \")\n",
        "    if user_input.lower() == \"exit\":\n",
        "        break\n",
        "    print(\"Bot:\", chatbot_response(user_input))\n"
      ],
      "metadata": {
        "colab": {
          "base_uri": "https://localhost:8080/"
        },
        "id": "KyO4svqeesEd",
        "outputId": "c99b5468-00f5-46d8-a6c5-e86d398ea396"
      },
      "execution_count": null,
      "outputs": [
        {
          "output_type": "stream",
          "name": "stdout",
          "text": [
            "Chatbot ready! Type 'exit' to quit.\n",
            "\n"
          ]
        }
      ]
    },
    {
      "cell_type": "code",
      "source": [],
      "metadata": {
        "id": "wYT7z63baOTV"
      },
      "execution_count": null,
      "outputs": []
    }
  ]
}